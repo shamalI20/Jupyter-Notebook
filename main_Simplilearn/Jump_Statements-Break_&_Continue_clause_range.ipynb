{
 "cells": [
  {
   "cell_type": "code",
   "execution_count": null,
   "metadata": {},
   "outputs": [
    {
     "name": "stderr",
     "output_type": "stream",
     "text": [
      "C:\\Users\\HP\\Anaconda3\\lib\\site-packages\\ipykernel\\parentpoller.py:116: UserWarning: Parent poll failed.  If the frontend dies,\n",
      "                the kernel may be left running.  Please let us know\n",
      "                about your system (bitness, Python, etc.) at\n",
      "                ipython-dev@scipy.org\n",
      "  ipython-dev@scipy.org\"\"\")\n"
     ]
    }
   ],
   "source": [
    "# Break\n",
    "counter = 1\n",
    "while counter <=10:\n",
    "    if(counter %2 == 0 & counter %3 == 0 ):\n",
    "        break\n",
    "print(\"counter\")\n",
    "counter = counter+1"
   ]
  },
  {
   "cell_type": "code",
   "execution_count": null,
   "metadata": {},
   "outputs": [],
   "source": [
    "# Continue\n",
    "counter = 1\n",
    "while counter <=10:\n",
    "    if(counter %2 == 0 & counter %3 == 0 ):\n",
    "        continue\n",
    "print(\"counter\")\n",
    "counter = counter+1\n"
   ]
  },
  {
   "cell_type": "code",
   "execution_count": 11,
   "metadata": {},
   "outputs": [
    {
     "name": "stdout",
     "output_type": "stream",
     "text": [
      "A\n",
      "m\n",
      "a\n"
     ]
    }
   ],
   "source": [
    "for x in 'Amazon':\n",
    "    if x == 'z' :\n",
    "        break\n",
    "    print(x)"
   ]
  },
  {
   "cell_type": "code",
   "execution_count": 8,
   "metadata": {},
   "outputs": [
    {
     "name": "stdout",
     "output_type": "stream",
     "text": [
      "a\n",
      "m\n",
      "a\n",
      "o\n",
      "n\n"
     ]
    }
   ],
   "source": [
    "for x in 'amazon':\n",
    "    if x == 'z' :\n",
    "        continue\n",
    "    print(x)\n",
    "        "
   ]
  },
  {
   "cell_type": "code",
   "execution_count": 15,
   "metadata": {},
   "outputs": [
    {
     "name": "stdout",
     "output_type": "stream",
     "text": [
      "10\n",
      "9\n",
      "8\n",
      "7\n",
      "6\n",
      "break\n"
     ]
    }
   ],
   "source": [
    "var = 10\n",
    "while var > 0:\n",
    "    print(var)\n",
    "    var = var - 1\n",
    "    if var == 5:\n",
    "        break\n",
    "print(\"break\")"
   ]
  },
  {
   "cell_type": "markdown",
   "metadata": {},
   "source": [
    "## Clauses  "
   ]
  },
  {
   "cell_type": "markdown",
   "metadata": {},
   "source": [
    "2/2 =1\n",
    "2/3 = 0.666666 not completely devided \n"
   ]
  },
  {
   "cell_type": "code",
   "execution_count": 13,
   "metadata": {},
   "outputs": [
    {
     "name": "stdout",
     "output_type": "stream",
     "text": [
      "list contains an odd number 3\n"
     ]
    }
   ],
   "source": [
    "# mod (%) =  not completely devided like division(/)\n",
    "def contains_odd_number(list): # define list\n",
    "    x=0                        # x=0 initialised\n",
    "    while x < len(list):      # case 1 - x=0\n",
    "        if list[x]%2 !=0:   # if (list[0]=2)%2\n",
    "            print(\"list contains an odd number \" + str(list[x]))\n",
    "            break\n",
    "        x = +1   # also x += 1\n",
    "        \n",
    "    else:\n",
    "        print(\"list does not contain an odd number \")\n",
    "     \n",
    "        \n",
    "list = [2, 3, 4,16, 90]\n",
    "contains_odd_number(list)"
   ]
  },
  {
   "cell_type": "code",
   "execution_count": null,
   "metadata": {},
   "outputs": [],
   "source": [
    "def contains_odd_number(list): # define list\n",
    "    x=0                        # x=0 initialised\n",
    "    while x < len(list):      # case 1 - x=0\n",
    "        if list[x]%2 !=0:   # if (list[0]=2)%2\n",
    "            print(\"list contains an odd number \" + str(list[x]))\n",
    "            break\n",
    "        x = +1   # also x += 1\n",
    "        \n",
    "    else:\n",
    "        print(\"list does not contain an odd number \")\n",
    "     \n",
    "        \n",
    "list = [2, 4, 16, 90]\n",
    "contains_odd_number(list)"
   ]
  },
  {
   "cell_type": "markdown",
   "metadata": {},
   "source": [
    "# Range\n",
    "##### iterate sequence of number"
   ]
  },
  {
   "cell_type": "markdown",
   "metadata": {},
   "source": [
    "* Only work with integers\n",
    "* All aurgument must be integers\n",
    "* Can not use string or float values\n",
    "* All arguments can be + or -"
   ]
  },
  {
   "cell_type": "code",
   "execution_count": 1,
   "metadata": {},
   "outputs": [
    {
     "name": "stdout",
     "output_type": "stream",
     "text": [
      "[3, 4, 5, 6, 7, 8, 9]\n"
     ]
    }
   ],
   "source": [
    "print(list(range(3,10)))    # inbuid fun. range"
   ]
  },
  {
   "cell_type": "code",
   "execution_count": 2,
   "metadata": {},
   "outputs": [
    {
     "name": "stdout",
     "output_type": "stream",
     "text": [
      "[0, 1, 2, 3, 4, 5, 6, 7, 8, 9]\n"
     ]
    }
   ],
   "source": [
    "print(list(range(10)))"
   ]
  },
  {
   "cell_type": "code",
   "execution_count": 3,
   "metadata": {},
   "outputs": [
    {
     "name": "stdout",
     "output_type": "stream",
     "text": [
      "[]\n"
     ]
    }
   ],
   "source": [
    "print(list(range(42, 14, 7)))"
   ]
  },
  {
   "cell_type": "code",
   "execution_count": 19,
   "metadata": {},
   "outputs": [
    {
     "name": "stdout",
     "output_type": "stream",
     "text": [
      "[42, 35, 28, 21, 14, 7, 0, -7]\n"
     ]
    }
   ],
   "source": [
    "print(list(range(42, -14, -7))) #we can also use range for decending no. also"
   ]
  },
  {
   "cell_type": "code",
   "execution_count": 30,
   "metadata": {},
   "outputs": [
    {
     "name": "stdout",
     "output_type": "stream",
     "text": [
      "0\n",
      "1\n",
      "2\n",
      "3\n"
     ]
    }
   ],
   "source": [
    "# one parameter\n",
    "for i in range(4): \n",
    "    print(i)"
   ]
  },
  {
   "cell_type": "code",
   "execution_count": 31,
   "metadata": {},
   "outputs": [
    {
     "name": "stdout",
     "output_type": "stream",
     "text": [
      "2\n",
      "3\n",
      "4\n",
      "5\n"
     ]
    }
   ],
   "source": [
    "# Two parameters\n",
    "for i in range(2,6):\n",
    "    print(i)"
   ]
  },
  {
   "cell_type": "code",
   "execution_count": 37,
   "metadata": {},
   "outputs": [
    {
     "name": "stdout",
     "output_type": "stream",
     "text": [
      "3\n",
      "6\n",
      "9\n",
      "12\n",
      "15\n",
      "18\n",
      "21\n",
      "24\n",
      "27\n"
     ]
    }
   ],
   "source": [
    "# Three paramenter \n",
    "for i in range(3,30,3):    # fist 3 is starts , 30 is end, 3 is diffence between start to stop\n",
    "    print(i)"
   ]
  },
  {
   "cell_type": "code",
   "execution_count": 52,
   "metadata": {},
   "outputs": [
    {
     "name": "stdout",
     "output_type": "stream",
     "text": [
      "30\n",
      "27\n",
      "24\n",
      "21\n",
      "18\n",
      "15\n",
      "12\n",
      "9\n"
     ]
    }
   ],
   "source": [
    "# backwords\n",
    "for i in range(30,8,-3):\n",
    "    print(i)"
   ]
  },
  {
   "cell_type": "code",
   "execution_count": 4,
   "metadata": {},
   "outputs": [
    {
     "name": "stdout",
     "output_type": "stream",
     "text": [
      "one\n",
      "Two\n",
      "Three\n",
      "Four\n",
      "Five\n"
     ]
    }
   ],
   "source": [
    "# list\n",
    "list = ['one', 'Two', 'Three', 'Four', 'Five']\n",
    "for i in range (len(list)):\n",
    "    print(list[i])"
   ]
  },
  {
   "cell_type": "markdown",
   "metadata": {},
   "source": [
    "### Use range with for"
   ]
  },
  {
   "cell_type": "code",
   "execution_count": 6,
   "metadata": {},
   "outputs": [
    {
     "name": "stdout",
     "output_type": "stream",
     "text": [
      "square of  3 is 9\n",
      "square of  4 is 16\n",
      "square of  5 is 25\n",
      "square of  6 is 36\n",
      "square of  7 is 49\n",
      "square of  8 is 64\n",
      "square of  9 is 81\n"
     ]
    }
   ],
   "source": [
    "for n in range(3,10):\n",
    "    print(\"square of \",n, \"is\",n*n)\n"
   ]
  },
  {
   "cell_type": "markdown",
   "metadata": {},
   "source": [
    "# Global and local variable"
   ]
  },
  {
   "cell_type": "markdown",
   "metadata": {},
   "source": [
    "* Global variable accessed anywhere\n",
    "* Global vari able accessed locally but not ,odify locally inheretly.\n",
    "* Local variable can only be access within its frame\n",
    "*"
   ]
  },
  {
   "cell_type": "code",
   "execution_count": 8,
   "metadata": {},
   "outputs": [
    {
     "name": "stdout",
     "output_type": "stream",
     "text": [
      "Enter 1 st value22\n"
     ]
    },
    {
     "data": {
      "text/plain": [
       "'22'"
      ]
     },
     "execution_count": 8,
     "metadata": {},
     "output_type": "execute_result"
    }
   ],
   "source": [
    "input(\"Enter 1 st value\")"
   ]
  },
  {
   "cell_type": "code",
   "execution_count": null,
   "metadata": {},
   "outputs": [],
   "source": []
  }
 ],
 "metadata": {
  "kernelspec": {
   "display_name": "Python 3",
   "language": "python",
   "name": "python3"
  },
  "language_info": {
   "codemirror_mode": {
    "name": "ipython",
    "version": 3
   },
   "file_extension": ".py",
   "mimetype": "text/x-python",
   "name": "python",
   "nbconvert_exporter": "python",
   "pygments_lexer": "ipython3",
   "version": "3.7.0"
  }
 },
 "nbformat": 4,
 "nbformat_minor": 2
}
