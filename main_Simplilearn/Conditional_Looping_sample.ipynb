{
 "cells": [
  {
   "cell_type": "code",
   "execution_count": 1,
   "metadata": {},
   "outputs": [
    {
     "name": "stdout",
     "output_type": "stream",
     "text": [
      "You are above 18\n"
     ]
    }
   ],
   "source": [
    "def age(a):\n",
    "    if (a<18):\n",
    "        print(\"You are under 18\")\n",
    "    else:\n",
    "        print('You are above 18')\n",
    "age(21)   "
   ]
  },
  {
   "cell_type": "code",
   "execution_count": 2,
   "metadata": {},
   "outputs": [
    {
     "name": "stdout",
     "output_type": "stream",
     "text": [
      "You are under 18\n"
     ]
    }
   ],
   "source": [
    "age(16)"
   ]
  },
  {
   "cell_type": "code",
   "execution_count": 3,
   "metadata": {},
   "outputs": [
    {
     "name": "stdout",
     "output_type": "stream",
     "text": [
      "You are above 18\n"
     ]
    }
   ],
   "source": [
    "age(18)"
   ]
  },
  {
   "cell_type": "code",
   "execution_count": 6,
   "metadata": {},
   "outputs": [
    {
     "name": "stdout",
     "output_type": "stream",
     "text": [
      "You are 18\n"
     ]
    }
   ],
   "source": [
    "def age(a):\n",
    "    if (a<18):\n",
    "        print(\"You are under 18\")\n",
    "    elif(a==18):\n",
    "        print('You are 18')\n",
    "    else:\n",
    "        print('You are above 18')\n",
    "        \n",
    "age(18)"
   ]
  },
  {
   "cell_type": "markdown",
   "metadata": {},
   "source": [
    "# Looping constructs"
   ]
  },
  {
   "cell_type": "code",
   "execution_count": 3,
   "metadata": {},
   "outputs": [
    {
     "name": "stdout",
     "output_type": "stream",
     "text": [
      "The count is0\n",
      "The count is1\n",
      "The count is2\n",
      "The count is3\n",
      "The count is4\n",
      "The count is5\n",
      "The count is6\n",
      "The count is7\n",
      "The count is8\n"
     ]
    }
   ],
   "source": [
    "count = 0\n",
    "while (count < 9):                               \n",
    "    print(\"The count is\" + str(count))\n",
    "    count += 1\n",
    "    \n",
    "# Each iteration increase 1 \n",
    "    \n"
   ]
  },
  {
   "cell_type": "markdown",
   "metadata": {},
   "source": [
    "#### For loop"
   ]
  },
  {
   "cell_type": "code",
   "execution_count": 8,
   "metadata": {},
   "outputs": [
    {
     "name": "stdout",
     "output_type": "stream",
     "text": [
      "1 is smaller than 5\n",
      "2 is smaller than 5\n",
      "3 is smaller than 5\n",
      "4 is smaller than 5\n",
      "5 is eqaul to 5\n",
      "6 is larger that 5\n",
      "7 is larger that 5\n",
      "8 is larger that 5\n",
      "9 is larger that 5\n"
     ]
    }
   ],
   "source": [
    "i=1\n",
    "for i in range(1, 10):\n",
    "    if i<5:\n",
    "        print(str(i) + \" is smaller than 5\")\n",
    "    elif(i==5):\n",
    "         print(str(i) + \" is eqaul to 5\")\n",
    "    else:\n",
    "        print(str(i) + \" is larger that 5\")"
   ]
  },
  {
   "cell_type": "markdown",
   "metadata": {},
   "source": []
  }
 ],
 "metadata": {
  "kernelspec": {
   "display_name": "Python 3",
   "language": "python",
   "name": "python3"
  },
  "language_info": {
   "codemirror_mode": {
    "name": "ipython",
    "version": 3
   },
   "file_extension": ".py",
   "mimetype": "text/x-python",
   "name": "python",
   "nbconvert_exporter": "python",
   "pygments_lexer": "ipython3",
   "version": "3.7.0"
  }
 },
 "nbformat": 4,
 "nbformat_minor": 2
}
